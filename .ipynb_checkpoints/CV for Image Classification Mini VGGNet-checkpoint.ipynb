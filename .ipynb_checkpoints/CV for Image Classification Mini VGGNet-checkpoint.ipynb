{
 "cells": [
  {
   "cell_type": "code",
   "execution_count": 1,
   "metadata": {},
   "outputs": [
    {
     "name": "stdout",
     "output_type": "stream",
     "text": [
      "2.2.0\n"
     ]
    }
   ],
   "source": [
    "# TensorFlow and tf.keras\n",
    "import tensorflow as tf\n",
    "from tensorflow import keras\n",
    "import pandas as pd\n",
    "\n",
    "# Helper libraries\n",
    "import numpy as np\n",
    "import matplotlib.pyplot as plt\n",
    "\n",
    "print(tf.__version__)"
   ]
  },
  {
   "cell_type": "code",
   "execution_count": 3,
   "metadata": {},
   "outputs": [],
   "source": [
    "BATCH_SIZE = 60000\n",
    "## Importing a local version of input_data"
   ]
  },
  {
   "cell_type": "code",
   "execution_count": 9,
   "metadata": {},
   "outputs": [
    {
     "name": "stdout",
     "output_type": "stream",
     "text": [
      "<class 'PIL.JpegImagePlugin.JpegImageFile'>\n",
      "JPEG\n",
      "RGB\n",
      "(224, 224)\n"
     ]
    },
    {
     "ename": "AttributeError",
     "evalue": "'JpegImageFile' object has no attribute 'reshape'",
     "output_type": "error",
     "traceback": [
      "\u001b[1;31m---------------------------------------------------------------------------\u001b[0m",
      "\u001b[1;31mAttributeError\u001b[0m                            Traceback (most recent call last)",
      "\u001b[1;32m<ipython-input-9-10bb3393dc3e>\u001b[0m in \u001b[0;36m<module>\u001b[1;34m\u001b[0m\n\u001b[0;32m     11\u001b[0m \u001b[1;31m# show the image\u001b[0m\u001b[1;33m\u001b[0m\u001b[1;33m\u001b[0m\u001b[0m\n\u001b[0;32m     12\u001b[0m \u001b[0mimg\u001b[0m\u001b[1;33m.\u001b[0m\u001b[0mshow\u001b[0m\u001b[1;33m(\u001b[0m\u001b[1;33m)\u001b[0m\u001b[1;33m\u001b[0m\u001b[0m\n\u001b[1;32m---> 13\u001b[1;33m \u001b[0mimg\u001b[0m\u001b[1;33m.\u001b[0m\u001b[0mreshape\u001b[0m\u001b[1;33m(\u001b[0m\u001b[1;36m224\u001b[0m\u001b[1;33m,\u001b[0m\u001b[1;36m224\u001b[0m\u001b[1;33m,\u001b[0m\u001b[1;36m1\u001b[0m\u001b[1;33m)\u001b[0m\u001b[1;33m\u001b[0m\u001b[0m\n\u001b[0m",
      "\u001b[1;31mAttributeError\u001b[0m: 'JpegImageFile' object has no attribute 'reshape'"
     ]
    }
   ],
   "source": [
    "from keras.preprocessing.image import load_img\n",
    "from keras.preprocessing.image import img_to_array\n",
    "import warnings\n",
    "\n",
    "# load the image\n",
    "img = load_img(\"D:\\\\Practice\\\\Computer Vision - Vehical Classification\\\\train\\\\images\\\\1.jpg\")\n",
    "# report details about the image\n",
    "print(type(img))\n",
    "print(img.format)\n",
    "print(img.mode)\n",
    "print(img.size)\n",
    "# show the image\n",
    "img.show()"
   ]
  },
  {
   "cell_type": "code",
   "execution_count": 3,
   "metadata": {},
   "outputs": [
    {
     "name": "stdout",
     "output_type": "stream",
     "text": [
      "Extracting D:\\Practice\\Computer Vision-Classification\\fashion-mnist-master\\fashion-mnist-master\\data\\fashion\\train-images-idx3-ubyte.gz\n",
      "Extracting D:\\Practice\\Computer Vision-Classification\\fashion-mnist-master\\fashion-mnist-master\\data\\fashion\\train-labels-idx1-ubyte.gz\n",
      "Extracting D:\\Practice\\Computer Vision-Classification\\fashion-mnist-master\\fashion-mnist-master\\data\\fashion\\t10k-images-idx3-ubyte.gz\n",
      "Extracting D:\\Practice\\Computer Vision-Classification\\fashion-mnist-master\\fashion-mnist-master\\data\\fashion\\t10k-labels-idx1-ubyte.gz\n",
      "Done Loading Data <input_data.read_data_sets.<locals>.DataSets object at 0x000001D7117B3E48>\n"
     ]
    }
   ],
   "source": [
    "data = input_data.read_data_sets(\"D:\\\\Practice\\\\Computer Vision-Classification\\\\fashion-mnist-master\\\\fashion-mnist-master\\\\data\\\\fashion\",one_hot=True)\n",
    "#data.train.next_batch(BATCH_SIZE)\n",
    "print(\"Done Loading Data\",data)"
   ]
  },
  {
   "cell_type": "code",
   "execution_count": 4,
   "metadata": {},
   "outputs": [
    {
     "name": "stdout",
     "output_type": "stream",
     "text": [
      "55000 10000 5000\n"
     ]
    }
   ],
   "source": [
    "print(data.train.num_examples , data.test.num_examples , data.validation.num_examples)\n"
   ]
  },
  {
   "cell_type": "code",
   "execution_count": 5,
   "metadata": {},
   "outputs": [
    {
     "name": "stderr",
     "output_type": "stream",
     "text": [
      "Using TensorFlow backend.\n"
     ]
    }
   ],
   "source": [
    "# import the necessary packages\n",
    "from keras.models import Sequential\n",
    "from keras.layers.normalization import BatchNormalization\n",
    "from keras.layers.convolutional import Conv2D\n",
    "from keras.layers.convolutional import MaxPooling2D\n",
    "from keras.layers.core import Activation\n",
    "from keras.layers.core import Flatten\n",
    "from keras.layers.core import Dropout\n",
    "from keras.layers.core import Dense\n",
    "from keras import backend as K\n",
    "\n",
    "class MiniVGGNet:\n",
    "\t@staticmethod\n",
    "\tdef build(width, height, depth, classes):\n",
    "\t\t# initialize the model along with the input shape to be\n",
    "\t\t# \"channels last\" and the channels dimension itself\n",
    "\t\tmodel = Sequential()\n",
    "\t\tinputShape = (height, width, depth)\n",
    "\t\tchanDim = -1\n",
    "\t\t# if we are using \"channels first\", update the input shape\n",
    "\t\t# and channels dimension\n",
    "\t\tif K.image_data_format() == \"channels_first\":\n",
    "\t\t\tinputShape = (depth, height, width)\n",
    "\t\t\tchanDim = 1\n",
    "            # first CONV => RELU => CONV => RELU => POOL layer set\n",
    "\t\tmodel.add(Conv2D(32, (3, 3), padding=\"same\",\n",
    "\t\t\tinput_shape=inputShape))\n",
    "\t\tmodel.add(Activation(\"relu\"))\n",
    "\t\tmodel.add(BatchNormalization(axis=chanDim))\n",
    "\t\tmodel.add(Conv2D(32, (3, 3), padding=\"same\"))\n",
    "\t\tmodel.add(Activation(\"relu\"))\n",
    "\t\tmodel.add(BatchNormalization(axis=chanDim))\n",
    "\t\tmodel.add(MaxPooling2D(pool_size=(2, 2)))\n",
    "\t\tmodel.add(Dropout(0.25))\n",
    "\t\t# second CONV => RELU => CONV => RELU => POOL layer set\n",
    "\t\tmodel.add(Conv2D(64, (3, 3), padding=\"same\"))\n",
    "\t\tmodel.add(Activation(\"relu\"))\n",
    "\t\tmodel.add(BatchNormalization(axis=chanDim))\n",
    "\t\tmodel.add(Conv2D(64, (3, 3), padding=\"same\"))\n",
    "\t\tmodel.add(Activation(\"relu\"))\n",
    "\t\tmodel.add(BatchNormalization(axis=chanDim))\n",
    "\t\tmodel.add(MaxPooling2D(pool_size=(2, 2)))\n",
    "\t\tmodel.add(Dropout(0.25))\n",
    "\t\t# first (and only) set of FC => RELU layers\n",
    "\t\tmodel.add(Flatten())\n",
    "\t\tmodel.add(Dense(512))\n",
    "\t\tmodel.add(Activation(\"relu\"))\n",
    "\t\tmodel.add(BatchNormalization())\n",
    "\t\tmodel.add(Dropout(0.5))\n",
    "\t\t# softmax classifier\n",
    "\t\tmodel.add(Dense(classes))\n",
    "\t\tmodel.add(Activation(\"softmax\"))\n",
    "\t\t# return the constructed network architecture\n",
    "\t\treturn model"
   ]
  },
  {
   "cell_type": "code",
   "execution_count": 6,
   "metadata": {},
   "outputs": [
    {
     "name": "stdout",
     "output_type": "stream",
     "text": [
      "[INFO] loading Fashion MNIST...\n",
      "(60000, 28, 28, 1) (10000, 28, 28, 1)\n"
     ]
    }
   ],
   "source": [
    "# set the matplotlib backend so figures can be saved in the background\n",
    "import matplotlib\n",
    "matplotlib.use(\"Agg\")\n",
    "# import the necessary packages\n",
    "## from pyimagesearch.minivggnet import MiniVGGNet\n",
    "from sklearn.metrics import classification_report\n",
    "from keras.optimizers import SGD\n",
    "from keras.datasets import fashion_mnist\n",
    "from keras.utils import np_utils\n",
    "from keras import backend as K\n",
    "from imutils import build_montages\n",
    "import matplotlib.pyplot as plt\n",
    "import numpy as np\n",
    "import cv2\n",
    "# initialize the number of epochs to train for, base learning rate,\n",
    "# and batch size\n",
    "NUM_EPOCHS = 20\n",
    "INIT_LR = 1e-2\n",
    "BS = 32\n",
    "\n",
    "print(\"[INFO] loading Fashion MNIST...\")\n",
    "((trainX, trainY), (testX, testY)) = fashion_mnist.load_data()\n",
    "trainX = trainX.reshape((trainX.shape[0], 28, 28, 1))\n",
    "testX = testX.reshape((testX.shape[0], 28, 28, 1))\n",
    "\n",
    "print(trainX.shape, testX.shape)"
   ]
  },
  {
   "cell_type": "code",
   "execution_count": 7,
   "metadata": {},
   "outputs": [],
   "source": [
    "# scale data to the range of [0, 1]\n",
    "trainX = trainX.astype(\"float32\") / 255.0\n",
    "testX = testX.astype(\"float32\") / 255.0\n",
    "# one-hot encode the training and testing labels\n",
    "trainY = np_utils.to_categorical(trainY, 10)\n",
    "testY = np_utils.to_categorical(testY, 10)\n",
    "# initialize the label names\n",
    "labelNames = [\"top\", \"trouser\", \"pullover\", \"dress\", \"coat\",\"sandal\", \"shirt\", \"sneaker\", \"bag\", \"ankle boot\"]"
   ]
  },
  {
   "cell_type": "code",
   "execution_count": 8,
   "metadata": {},
   "outputs": [
    {
     "name": "stdout",
     "output_type": "stream",
     "text": [
      "[INFO] compiling model...\n",
      "[INFO] training model...\n",
      "No File Found\n",
      "I should be skipping if I already have a model for this ... \n",
      "Train on 60000 samples, validate on 10000 samples\n",
      "Epoch 1/20\n",
      "60000/60000 [==============================] - 155s 3ms/step - loss: 0.5446 - accuracy: 0.8183 - val_loss: 0.3300 - val_accuracy: 0.8850\n",
      "Epoch 2/20\n",
      "60000/60000 [==============================] - 167s 3ms/step - loss: 0.3486 - accuracy: 0.8761 - val_loss: 0.2791 - val_accuracy: 0.8975\n",
      "Epoch 3/20\n",
      "60000/60000 [==============================] - 171s 3ms/step - loss: 0.2982 - accuracy: 0.8926 - val_loss: 0.2551 - val_accuracy: 0.9046\n",
      "Epoch 4/20\n",
      "60000/60000 [==============================] - 172s 3ms/step - loss: 0.2696 - accuracy: 0.9027 - val_loss: 0.2427 - val_accuracy: 0.9130\n",
      "Epoch 5/20\n",
      "60000/60000 [==============================] - 176s 3ms/step - loss: 0.2594 - accuracy: 0.9056 - val_loss: 0.2309 - val_accuracy: 0.9138\n",
      "Epoch 6/20\n",
      "60000/60000 [==============================] - 175s 3ms/step - loss: 0.2496 - accuracy: 0.9104 - val_loss: 0.2283 - val_accuracy: 0.9182\n",
      "Epoch 7/20\n",
      "60000/60000 [==============================] - 174s 3ms/step - loss: 0.2377 - accuracy: 0.9146 - val_loss: 0.2207 - val_accuracy: 0.9190\n",
      "Epoch 8/20\n",
      "60000/60000 [==============================] - 175s 3ms/step - loss: 0.2323 - accuracy: 0.9156 - val_loss: 0.2247 - val_accuracy: 0.9170\n",
      "Epoch 9/20\n",
      "60000/60000 [==============================] - 176s 3ms/step - loss: 0.2256 - accuracy: 0.9176 - val_loss: 0.2173 - val_accuracy: 0.9206\n",
      "Epoch 10/20\n",
      "60000/60000 [==============================] - 175s 3ms/step - loss: 0.2191 - accuracy: 0.9206 - val_loss: 0.2134 - val_accuracy: 0.9220\n",
      "Epoch 11/20\n",
      "60000/60000 [==============================] - 176s 3ms/step - loss: 0.2137 - accuracy: 0.9224 - val_loss: 0.2116 - val_accuracy: 0.9213\n",
      "Epoch 12/20\n",
      "60000/60000 [==============================] - 176s 3ms/step - loss: 0.2129 - accuracy: 0.9228 - val_loss: 0.2061 - val_accuracy: 0.9255\n",
      "Epoch 13/20\n",
      "60000/60000 [==============================] - 176s 3ms/step - loss: 0.2087 - accuracy: 0.9240 - val_loss: 0.2065 - val_accuracy: 0.9234\n",
      "Epoch 14/20\n",
      "60000/60000 [==============================] - 178s 3ms/step - loss: 0.2056 - accuracy: 0.9251 - val_loss: 0.2156 - val_accuracy: 0.9202\n",
      "Epoch 15/20\n",
      "60000/60000 [==============================] - 177s 3ms/step - loss: 0.2016 - accuracy: 0.9274 - val_loss: 0.2112 - val_accuracy: 0.9224\n",
      "Epoch 16/20\n",
      "60000/60000 [==============================] - 177s 3ms/step - loss: 0.2004 - accuracy: 0.9265 - val_loss: 0.2029 - val_accuracy: 0.9244\n",
      "Epoch 17/20\n",
      "60000/60000 [==============================] - 177s 3ms/step - loss: 0.1969 - accuracy: 0.9283 - val_loss: 0.2033 - val_accuracy: 0.9245\n",
      "Epoch 18/20\n",
      "60000/60000 [==============================] - 177s 3ms/step - loss: 0.1949 - accuracy: 0.9293 - val_loss: 0.2054 - val_accuracy: 0.9237\n",
      "Epoch 19/20\n",
      "60000/60000 [==============================] - 176s 3ms/step - loss: 0.1929 - accuracy: 0.9293 - val_loss: 0.2010 - val_accuracy: 0.9266\n",
      "Epoch 20/20\n",
      "60000/60000 [==============================] - 177s 3ms/step - loss: 0.1897 - accuracy: 0.9308 - val_loss: 0.2011 - val_accuracy: 0.9255\n"
     ]
    }
   ],
   "source": [
    "# initialize the optimizer and model\n",
    "print(\"[INFO] compiling model...\")\n",
    "opt = SGD(lr=INIT_LR, momentum=0.9, decay=INIT_LR / NUM_EPOCHS)\n",
    "model = MiniVGGNet.build(width=28, height=28, depth=1, classes=10)\n",
    "model.compile(loss=\"categorical_crossentropy\", optimizer=opt,\n",
    "metrics=[\"accuracy\"])\n",
    "# train the network\n",
    "print(\"[INFO] training model...\")\n",
    "# load model\n",
    "from keras.models import load_model\n",
    "model_name = \"model_\"+str(NUM_EPOCHS)+\".h5\"\n",
    "try :\n",
    "    model = load_model(model_name)\n",
    "\n",
    "except :\n",
    "    print(\"No File Found\")\n",
    "created_new_model = False\n",
    "\n",
    "if(model.name != model_name):\n",
    "    created_new_model = True\n",
    "    print(\"I should be skipping if I already have a model for this ... \")\n",
    "    H = model.fit(trainX, trainY,validation_data=(testX, testY),batch_size=BS, epochs=NUM_EPOCHS)"
   ]
  },
  {
   "cell_type": "code",
   "execution_count": 9,
   "metadata": {},
   "outputs": [
    {
     "name": "stdout",
     "output_type": "stream",
     "text": [
      "Saved model to disk\n",
      "Saved new model and History\n"
     ]
    }
   ],
   "source": [
    "if(created_new_model):\n",
    "    # save model and architecture to single file\n",
    "    model_name = \"model_\"+str(NUM_EPOCHS)+\".h5\"\n",
    "    model.name = model_name\n",
    "    model.save(model_name)\n",
    "    print(\"Saved model to disk\")\n",
    "    # convert the history.history dict to a pandas DataFrame:     \n",
    "    hist_df = pd.DataFrame(H.history) \n",
    "\n",
    "   # or save to csv: \n",
    "    hist_csv_file = 'history.csv'\n",
    "    with open(hist_csv_file, mode='w') as f:\n",
    "        hist_df.to_csv(f)\n",
    "        \n",
    "    print(\"Saved new model and History\")\n",
    "        \n",
    "if(not created_new_model) :\n",
    "    hist_df = pd.read_csv('history.csv')\n",
    "    H.history = hist_df.to_dict()\n",
    "    print(\"Loaded History\")"
   ]
  },
  {
   "cell_type": "code",
   "execution_count": 10,
   "metadata": {},
   "outputs": [
    {
     "name": "stdout",
     "output_type": "stream",
     "text": [
      "Successfully created results\n"
     ]
    }
   ],
   "source": [
    "y_pred = model.predict_classes(testX)\n",
    "submit = pd.read_csv('sample_submission.csv')\n",
    "submit.label = y_pred\n",
    "submit.head()\n",
    "submit.to_csv(\"results.csv\",index=False)\n",
    "print(\"Successfully created results\")"
   ]
  },
  {
   "cell_type": "code",
   "execution_count": 11,
   "metadata": {},
   "outputs": [
    {
     "name": "stdout",
     "output_type": "stream",
     "text": [
      "[INFO] evaluating network...\n",
      "              precision    recall  f1-score   support\n",
      "\n",
      "         top       0.90      0.85      0.88      1000\n",
      "     trouser       1.00      0.98      0.99      1000\n",
      "    pullover       0.92      0.89      0.90      1000\n",
      "       dress       0.91      0.94      0.92      1000\n",
      "        coat       0.88      0.88      0.88      1000\n",
      "      sandal       0.99      0.99      0.99      1000\n",
      "       shirt       0.76      0.81      0.78      1000\n",
      "     sneaker       0.94      0.98      0.96      1000\n",
      "         bag       0.99      0.99      0.99      1000\n",
      "  ankle boot       0.99      0.95      0.97      1000\n",
      "\n",
      "    accuracy                           0.93     10000\n",
      "   macro avg       0.93      0.93      0.93     10000\n",
      "weighted avg       0.93      0.93      0.93     10000\n",
      "\n"
     ]
    },
    {
     "data": {
      "image/png": "[encoded data removed]",
      "text/plain": [
       "<Figure size 432x288 with 1 Axes>"
      ]
     },
     "metadata": {},
     "output_type": "display_data"
    }
   ],
   "source": [
    "%matplotlib inline\n",
    "# make predictions on the test set\n",
    "preds = model.predict(testX)\n",
    "# show a nicely formatted classification report\n",
    "print(\"[INFO] evaluating network...\")\n",
    "print(classification_report(testY.argmax(axis=1), preds.argmax(axis=1),\n",
    "\ttarget_names=labelNames))\n",
    "# plot the training loss and accuracy\n",
    "N = NUM_EPOCHS\n",
    "plt.style.use(\"ggplot\")\n",
    "plt.figure()\n",
    "plt.plot(np.arange(0, N), H.history[\"loss\"], label=\"train_loss\")\n",
    "plt.plot(np.arange(0, N), H.history[\"val_loss\"], label=\"val_loss\")\n",
    "plt.plot(np.arange(0, N), H.history[\"accuracy\"], label=\"train_acc\")\n",
    "plt.plot(np.arange(0, N), H.history[\"val_accuracy\"], label=\"val_acc\")\n",
    "plt.title(\"Training Loss and Accuracy on Dataset\")\n",
    "plt.xlabel(\"Epoch #\")\n",
    "plt.ylabel(\"Loss/Accuracy\")\n",
    "plt.legend(loc=\"lower left\")\n",
    "plt.savefig(\"plot.png\")\n",
    "plt.show()"
   ]
  }
 ],
 "metadata": {
  "kernelspec": {
   "display_name": "Python 3",
   "language": "python",
   "name": "python3"
  },
  "language_info": {
   "codemirror_mode": {
    "name": "ipython",
    "version": 3
   },
   "file_extension": ".py",
   "mimetype": "text/x-python",
   "name": "python",
   "nbconvert_exporter": "python",
   "pygments_lexer": "ipython3",
   "version": "3.6.3"
  }
 },
 "nbformat": 4,
 "nbformat_minor": 2
}
